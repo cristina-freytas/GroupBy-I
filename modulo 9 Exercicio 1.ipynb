{
 "cells": [
  {
   "cell_type": "markdown",
   "metadata": {},
   "source": [
    "# Módulo 9: TdD III - Agregações e operações em grupos\n",
    "\n",
    "# Exercício 1\n",
    "\n",
    "Trabalharemos com a base de dados \"SINASCI_RO_2019.CSV\" para o desenvolvimento das habilidades em **groupby**."
   ]
  },
  {
   "cell_type": "markdown",
   "metadata": {},
   "source": [
    "# Livro para consulta:\n",
    "- https://jakevdp.github.io/PythonDataScienceHandbook/03.08-aggregation-and-grouping.html\n",
    "- https://jakevdp.github.io/PythonDataScienceHandbook/03.09-pivot-tables.html\n",
    "    "
   ]
  },
  {
   "cell_type": "markdown",
   "metadata": {},
   "source": [
    "# 1. Importando bibliotecas <a name=\"import\"></a>\n",
    "\n",
    "<div style=\"text-align: right\"\n",
    "     \n",
    "[Voltar ao índice](#Contents)"
   ]
  },
  {
   "cell_type": "code",
   "execution_count": 264,
   "metadata": {
    "ExecuteTime": {
     "end_time": "2021-06-06T21:12:37.298706Z",
     "start_time": "2021-06-06T21:12:36.656481Z"
    }
   },
   "outputs": [],
   "source": [
    "# importando bibliotecas\n",
    "\n",
    "import numpy as np\n",
    "import pandas as pd\n",
    "import seaborn as sns\n",
    "import matplotlib.pyplot as plt\n",
    "\n",
    "%matplotlib inline"
   ]
  },
  {
   "cell_type": "markdown",
   "metadata": {},
   "source": [
    "# 2. Carregando o dataframe SINASC <a name=\"read\"></a>\n",
    "<div style=\"text-align: right\"\n",
    "     \n",
    "[Voltar ao índice](#Contents)"
   ]
  },
  {
   "cell_type": "code",
   "execution_count": 265,
   "metadata": {
    "ExecuteTime": {
     "end_time": "2021-06-06T21:12:37.762376Z",
     "start_time": "2021-06-06T21:12:37.728383Z"
    },
    "scrolled": true
   },
   "outputs": [
    {
     "data": {
      "text/plain": [
       "Index(['ORIGEM', 'CODESTAB', 'CODMUNNASC', 'LOCNASC', 'IDADEMAE', 'ESTCIVMAE',\n",
       "       'ESCMAE', 'CODOCUPMAE', 'QTDFILVIVO', 'QTDFILMORT', 'CODMUNRES',\n",
       "       'GESTACAO', 'GRAVIDEZ', 'PARTO', 'CONSULTAS', 'DTNASC', 'HORANASC',\n",
       "       'SEXO', 'APGAR1', 'APGAR5', 'RACACOR', 'PESO', 'IDANOMAL', 'DTCADASTRO',\n",
       "       'CODANOMAL', 'NUMEROLOTE', 'VERSAOSIST', 'DTRECEBIM', 'DIFDATA',\n",
       "       'DTRECORIGA', 'NATURALMAE', 'CODMUNNATU', 'CODUFNATU', 'ESCMAE2010',\n",
       "       'SERIESCMAE', 'DTNASCMAE', 'RACACORMAE', 'QTDGESTANT', 'QTDPARTNOR',\n",
       "       'QTDPARTCES', 'IDADEPAI', 'DTULTMENST', 'SEMAGESTAC', 'TPMETESTIM',\n",
       "       'CONSPRENAT', 'MESPRENAT', 'TPAPRESENT', 'STTRABPART', 'STCESPARTO',\n",
       "       'TPNASCASSI', 'TPFUNCRESP', 'TPDOCRESP', 'DTDECLARAC', 'ESCMAEAGR1',\n",
       "       'STDNEPIDEM', 'STDNNOVA', 'CODPAISRES', 'TPROBSON', 'PARIDADE',\n",
       "       'KOTELCHUCK', 'CONTADOR', 'munResStatus', 'munResTipo', 'munResNome',\n",
       "       'munResUf', 'munResLat', 'munResLon', 'munResAlt', 'munResArea'],\n",
       "      dtype='object')"
      ]
     },
     "execution_count": 265,
     "metadata": {},
     "output_type": "execute_result"
    }
   ],
   "source": [
    "# carregando arquivo e construindo DataFrame\n",
    "\n",
    "arquivo = pd.read_csv('SINASCI_RO_2019.csv')\n",
    "df_sinasci = pd.DataFrame(arquivo)\n",
    "\n",
    "\n",
    "# informações sobre os dados\n",
    "\n",
    "df_sinasci.columns"
   ]
  },
  {
   "cell_type": "markdown",
   "metadata": {},
   "source": [
    "# Tarefa 1"
   ]
  },
  {
   "cell_type": "markdown",
   "metadata": {},
   "source": [
    "### 1. Idade media das mães e dos pais por município (coluna munResNome)\n"
   ]
  },
  {
   "cell_type": "code",
   "execution_count": 266,
   "metadata": {},
   "outputs": [
    {
     "name": "stdout",
     "output_type": "stream",
     "text": [
      "\n",
      "\n",
      "                           IDADEMAE  IDADEPAI\n",
      "munResNome                                   \n",
      "Alta Floresta D'Oeste         25.99     29.55\n",
      "Alto Alegre dos Parecis       24.84     29.18\n",
      "Alto Paraíso                  24.96     28.83\n",
      "Alvorada D'Oeste              25.77     30.76\n",
      "Ariquemes                     25.61     32.47\n",
      "Buritis                       25.56     30.81\n",
      "Cabixi                        26.04     34.33\n",
      "Cacaulândia                   25.55     36.33\n",
      "Cacoal                        26.89     30.93\n",
      "Campo Novo de Rondônia        24.83     30.50\n",
      "Candeias do Jamari            25.24     29.89\n",
      "Castanheiras                  27.28     30.39\n",
      "Cerejeiras                    27.24     31.65\n",
      "Chupinguaia                   25.33     29.63\n",
      "Colorado do Oeste             27.60     34.35\n",
      "Corumbiara                    24.72     32.47\n",
      "Costa Marques                 24.41     30.61\n",
      "Cujubim                       24.48     31.40\n",
      "Espigão D'Oeste               26.09     31.20\n",
      "Governador Jorge Teixeira     24.40     29.22\n",
      "Guajará-Mirim                 25.46     30.47\n",
      "Itapuã do Oeste               26.06     42.50\n",
      "Jaru                          25.98     32.20\n",
      "Ji-Paraná                     26.36     31.13\n",
      "Machadinho D'Oeste            25.48     31.33\n",
      "Ministro Andreazza            27.90     33.85\n",
      "Mirante da Serra              26.30     32.15\n",
      "Monte Negro                   25.65     34.68\n",
      "Município ignorado - RO       24.00     22.00\n",
      "Nova Brasilândia D'Oeste      26.22     30.52\n",
      "Nova Mamoré                   25.33     31.69\n",
      "Nova União                    26.89     31.37\n",
      "Novo Horizonte do Oeste       26.94     31.59\n",
      "Ouro Preto do Oeste           26.38     31.23\n",
      "Parecis                       26.45     32.47\n",
      "Pimenta Bueno                 25.20     29.75\n",
      "Pimenteiras do Oeste          25.08     35.60\n",
      "Porto Velho                   26.31     32.35\n",
      "Presidente Médici             25.80     30.15\n",
      "Primavera de Rondônia         27.02     31.89\n",
      "Rio Crespo                    26.66     28.00\n",
      "Rolim de Moura                26.60     30.36\n",
      "Santa Luzia D'Oeste           26.12     30.70\n",
      "Seringueiras                  24.91     30.50\n",
      "São Felipe D'Oeste            26.48     31.40\n",
      "São Francisco do Guaporé      25.66     31.64\n",
      "São Miguel do Guaporé         25.93     32.67\n",
      "Teixeirópolis                 26.03     31.50\n",
      "Theobroma                     25.54     30.08\n",
      "Urupá                         26.69     31.01\n",
      "Vale do Anari                 26.10     34.00\n",
      "Vale do Paraíso               25.68     29.98\n",
      "Vilhena                       26.43     34.15\n"
     ]
    }
   ],
   "source": [
    "# idade média dos pais por município\n",
    "\n",
    "municipio = 'munResNome'\n",
    "\n",
    "consulta = df_sinasci.groupby(municipio)[['IDADEMAE', 'IDADEPAI']].mean()\n",
    "consulta = consulta.round(2)\n",
    "\n",
    "print(\"\\n\")\n",
    "print(consulta)\n"
   ]
  },
  {
   "cell_type": "markdown",
   "metadata": {},
   "source": [
    "### 2. Peso médio dos bebes por sexo que nasceram no dia do seu aniversário por faixas de escolaridade mae\n",
    "Ex: Você, aluna(o), nasceu no dia 10/01, então você precisa filtrar o conjunto de dados nessa data e calcular o peso médio dos bebês de cada sexo por faixa de escolaridade da mãe."
   ]
  },
  {
   "cell_type": "code",
   "execution_count": 267,
   "metadata": {},
   "outputs": [
    {
     "name": "stdout",
     "output_type": "stream",
     "text": [
      "\n",
      "\n",
      "ESCMAE           SEXO     \n",
      "12 anos ou mais  Feminino     3089.00\n",
      "                 Masculino    3547.50\n",
      "4 a 7 anos       Feminino     3230.00\n",
      "                 Masculino    3026.67\n",
      "8 a 11 anos      Feminino     3144.43\n",
      "                 Masculino    3487.35\n",
      "Name: PESO, dtype: float64\n",
      "\n",
      "\n"
     ]
    }
   ],
   "source": [
    "# peso médio dos bebês por sexo pela data em 16/11/2019\n",
    "\n",
    "\n",
    "# coluna \"object\" para \"datatime\"\n",
    "df_sinasci['DTNASC'] = pd.to_datetime(df_sinasci['DTNASC']) \n",
    "\n",
    "data = df_sinasci[df_sinasci['DTNASC'] == '2019-11-16']\n",
    "\n",
    "peso_medio = data.groupby(['ESCMAE', 'SEXO'])['PESO'].mean()\n",
    "peso_medio = peso_medio.round(2)\n",
    "\n",
    "print(\"\\n\")\n",
    "print(peso_medio)\n",
    "print(\"\\n\")"
   ]
  },
  {
   "cell_type": "markdown",
   "metadata": {},
   "source": [
    "### 3. Qual o municipio que nasceu menos bebe em 2019?\n",
    "    - qual a idade media, maxima, minima das maes nesse municipio?\n",
    "    - qual a idade media, maxima, minima dos pais nesse municipio?"
   ]
  },
  {
   "cell_type": "code",
   "execution_count": 268,
   "metadata": {},
   "outputs": [],
   "source": [
    "# separando dataframe com as colunas alvo\n",
    "\n",
    "df_sinasci_2 = df_sinasci[['munResNome', 'IDADEMAE', 'IDADEPAI']]\n"
   ]
  },
  {
   "cell_type": "code",
   "execution_count": 269,
   "metadata": {},
   "outputs": [
    {
     "name": "stdout",
     "output_type": "stream",
     "text": [
      "\n",
      "\n",
      " O município com MENOS nascimentos é 'Município ignorado - RO' com 1 nascimento(s).\n",
      "\n",
      "\n"
     ]
    }
   ],
   "source": [
    "# município com MENOS nascimentos\n",
    "\n",
    "nascimentos = df_sinasci[df_sinasci['DTNASC'].dt.year == 2019]\n",
    "menos_nascimentos_nome = nascimentos['munResNome'].value_counts().idxmin()\n",
    "menos_nascimentos_qtde = nascimentos[nascimentos['munResNome'] == menos_nascimentos].shape[0]\n",
    "\n",
    "print(\"\\n\")\n",
    "print(f\" O município com MENOS nascimentos é '{menos_nascimentos_nome}' com {menos_nascimentos_qtde} nascimento(s).\")\n",
    "print(\"\\n\")\n"
   ]
  },
  {
   "cell_type": "code",
   "execution_count": 270,
   "metadata": {},
   "outputs": [
    {
     "name": "stdout",
     "output_type": "stream",
     "text": [
      "\n",
      "\n",
      " Média das idades dos pais em 'Município ignorado - RO':\n",
      "\n",
      "\n",
      "        IDADEMAE  IDADEPAI\n",
      "min         11.0      15.0\n",
      "median      26.0      30.0\n",
      "max         53.0      86.0\n",
      "\n",
      "\n"
     ]
    }
   ],
   "source": [
    "# qual a média de idade dos pais neste município\n",
    "\n",
    "municipio = menos_nascimentos_nome\n",
    "\n",
    "nascimentos_municipio = df_sinasci_2[df_sinasci_2['munResNome'] == municipio]\n",
    "estatisticas_idades_municipio = nascimentos[['IDADEMAE', 'IDADEPAI']].agg(['min', 'median', 'max'])\n",
    "\n",
    "print(\"\\n\")\n",
    "print(f\" Média das idades dos pais em '{municipio_selecionado}':\")\n",
    "print(\"\\n\")\n",
    "print(estatisticas_idades_municipio)\n",
    "print(\"\\n\")\n"
   ]
  },
  {
   "cell_type": "markdown",
   "metadata": {},
   "source": [
    "### 4. Qual o municipio que nasceu mais bebe no mês de março?\n",
    "    - qual a quantidade de filhos vivos media, maxima, minima nesse municipio?\n",
    "    - qual a idade media, maxima, minima dos pais nesse municipio?\n",
    "\n"
   ]
  },
  {
   "cell_type": "code",
   "execution_count": 271,
   "metadata": {},
   "outputs": [],
   "source": [
    "# separando dataframe com as colunas alvo\n",
    "\n",
    "df_sinasci_2 = df_sinasci[['munResNome', 'IDADEMAE', 'IDADEPAI', 'QTDFILVIVO']]\n"
   ]
  },
  {
   "cell_type": "code",
   "execution_count": 272,
   "metadata": {},
   "outputs": [
    {
     "name": "stdout",
     "output_type": "stream",
     "text": [
      "\n",
      "\n",
      " O município com MAIS nascimentos é 'Porto Velho' com 8437 nascimento(s).\n",
      "\n",
      "\n"
     ]
    }
   ],
   "source": [
    "# município com MAIS nascimentos\n",
    "\n",
    "nascimentos = df_sinasci[df_sinasci['DTNASC'].dt.year == 2019]\n",
    "mais_nascimentos_nome = nascimentos['munResNome'].value_counts().idxmax()\n",
    "mais_nascimentos_qtde = nascimentos[nascimentos['munResNome'] == mais_nascimentos_nome].shape[0]\n",
    "\n",
    "print(\"\\n\")\n",
    "print(f\" O município com MAIS nascimentos é '{mais_nascimentos_nome}' com {mais_nascimentos_qtde} nascimento(s).\")\n",
    "print(\"\\n\")\n"
   ]
  },
  {
   "cell_type": "code",
   "execution_count": 273,
   "metadata": {},
   "outputs": [
    {
     "name": "stdout",
     "output_type": "stream",
     "text": [
      "\n",
      "\n",
      " Média das idades dos pais em 'Município ignorado - RO':\n",
      "\n",
      "\n",
      "        IDADEMAE  IDADEPAI\n",
      "min         12.0      16.0\n",
      "median      26.0      32.0\n",
      "max         47.0      65.0\n",
      "\n",
      "\n"
     ]
    }
   ],
   "source": [
    "# qual a média de idade dos pais neste município\n",
    "\n",
    "municipio = mais_nascimentos_nome\n",
    "\n",
    "nascimentos_municipio = df_sinasci_2[df_sinasci_2['munResNome'] == municipio]\n",
    "estatisticas_idades_municipio = nascimentos_municipio[['IDADEMAE', 'IDADEPAI']].agg(['min', 'median', 'max'])\n",
    "\n",
    "print(\"\\n\")\n",
    "print(f\" Média das idades dos pais em '{municipio_selecionado}':\")\n",
    "print(\"\\n\")\n",
    "print(estatisticas_idades_municipio)\n",
    "print(\"\\n\")\n"
   ]
  },
  {
   "cell_type": "markdown",
   "metadata": {},
   "source": [
    "### 4. Qual o municipio que nasceu mais bebe no mês de março?\n",
    "    - qual a quantidade de filhos vivos media, maxima, minima nesse municipio?\n",
    "    - qual a idade media, maxima, minima dos pais nesse municipio?\n",
    "\n"
   ]
  },
  {
   "cell_type": "code",
   "execution_count": 274,
   "metadata": {},
   "outputs": [
    {
     "name": "stdout",
     "output_type": "stream",
     "text": [
      "\n",
      "\n",
      " O município com MAIS nascimentos é 'Porto Velho' com 744 nascimento(s) em março de 2019.\n",
      "\n",
      "\n"
     ]
    }
   ],
   "source": [
    "# município que MAIS nasceu bebês no mês de MARÇO\n",
    "\n",
    "\n",
    "nascimentos = df_sinasci[df_sinasci['DTNASC'].dt.month == 3]\n",
    "mais_nascimentos_nome = nascimentos['munResNome'].value_counts().idxmax()\n",
    "mais_nascimentos_qtde = nascimentos[nascimentos['munResNome'] == mais_nascimentos_nome].shape[0]\n",
    "\n",
    "print(\"\\n\")\n",
    "print(f\" O município com MAIS nascimentos é '{mais_nascimentos_nome}' com {mais_nascimentos_qtde} nascimento(s) em março de 2019.\")\n",
    "print(\"\\n\")"
   ]
  },
  {
   "cell_type": "code",
   "execution_count": 275,
   "metadata": {},
   "outputs": [
    {
     "name": "stdout",
     "output_type": "stream",
     "text": [
      "\n",
      "\n",
      " A média, minímo e máximo da quantidade de FILHOS VIVOS em 'Município ignorado - RO':\n",
      "\n",
      "\n",
      "min        0.0\n",
      "median     1.0\n",
      "max       12.0\n",
      "Name: QTDFILVIVO, dtype: float64\n",
      "\n",
      "\n"
     ]
    }
   ],
   "source": [
    "# qual a quantidade, média, max e min de \"filhos vivos\"\n",
    "\n",
    "municipio = mais_nascimentos_nome\n",
    "\n",
    "nascimentos_municipio = df_sinasci_2[df_sinasci_2['munResNome'] == municipio]\n",
    "estatisticas_idades_municipio = nascimentos_municipio['QTDFILVIVO'].agg(['min', 'median', 'max'])\n",
    "\n",
    "print(\"\\n\")\n",
    "print(f\" A média, minímo e máximo da quantidade de FILHOS VIVOS em '{municipio_selecionado}':\")\n",
    "print(\"\\n\")\n",
    "print(estatisticas_idades_municipio)\n",
    "print(\"\\n\")\n"
   ]
  },
  {
   "cell_type": "code",
   "execution_count": 276,
   "metadata": {},
   "outputs": [
    {
     "name": "stdout",
     "output_type": "stream",
     "text": [
      "\n",
      "\n",
      " Média das idades dos pais em 'Município ignorado - RO':\n",
      "\n",
      "\n",
      "        IDADEMAE  IDADEPAI\n",
      "min         12.0      16.0\n",
      "median      26.0      32.0\n",
      "max         47.0      65.0\n",
      "\n",
      "\n"
     ]
    }
   ],
   "source": [
    "# qual a média de idade dos pais neste município = mais nasceu bebês no mês de março\n",
    "\n",
    "municipio = mais_nascimentos_nome\n",
    "\n",
    "nascimentos_municipio = df_sinasci_2[df_sinasci_2['munResNome'] == municipio]\n",
    "estatisticas_idades_municipio = nascimentos_municipio[['IDADEMAE', 'IDADEPAI']].agg(['min', 'median', 'max'])\n",
    "\n",
    "print(\"\\n\")\n",
    "print(f\" Média das idades dos pais em '{municipio_selecionado}':\")\n",
    "print(\"\\n\")\n",
    "print(estatisticas_idades_municipio)\n",
    "print(\"\\n\")\n"
   ]
  },
  {
   "cell_type": "markdown",
   "metadata": {},
   "source": [
    "### Analise as respostas encontradas, tire algum insight delas, conte pra gente algo encontrado nos dados. Algo que você julgue relevante e novo pra você."
   ]
  },
  {
   "cell_type": "markdown",
   "metadata": {},
   "source": [
    "#### Insight 1:\n",
    "- Comparaçao da média dos pesos dos bebês por tipo de PARTO: vaginal ou cesáreo;\n",
    "- Não há diferença significativa na média dos pesos dos bebês;"
   ]
  },
  {
   "cell_type": "code",
   "execution_count": 277,
   "metadata": {},
   "outputs": [],
   "source": [
    "# separando dataframe com as colunas alvo\n",
    "\n",
    "df_sinasci_2 = df_sinasci[['PARTO', 'PESO']]"
   ]
  },
  {
   "cell_type": "code",
   "execution_count": 278,
   "metadata": {},
   "outputs": [
    {
     "name": "stdout",
     "output_type": "stream",
     "text": [
      "\n",
      "Média dos Pesos por Tipo de Parto:\n",
      "\n",
      "\n",
      "PARTO\n",
      "Cesáreo    3270.490408\n",
      "Vaginal    3189.155205\n",
      "Name: PESO, dtype: float64\n",
      "\n",
      "\n"
     ]
    }
   ],
   "source": [
    "# média do peso\n",
    "\n",
    "media_peso = df_sinasci_2.groupby('PARTO')['PESO'].mean()\n",
    "\n",
    "\n",
    "print(\"\\nMédia dos Pesos por Tipo de Parto:\")\n",
    "print(\"\\n\")\n",
    "print(media_peso)\n",
    "print(\"\\n\")\n",
    "\n"
   ]
  },
  {
   "cell_type": "code",
   "execution_count": 279,
   "metadata": {},
   "outputs": [
    {
     "data": {
      "image/png": "[encoded data removed]",
      "text/plain": [
       "<Figure size 640x480 with 1 Axes>"
      ]
     },
     "metadata": {},
     "output_type": "display_data"
    }
   ],
   "source": [
    "# gráfico\n",
    "\n",
    "plt.bar(media_peso.index, media_peso.values)\n",
    "plt.title('Média dos Pesos por Tipo de Parto')\n",
    "plt.xlabel('Tipo de Parto')\n",
    "plt.ylabel('Média do Peso do Bebê')\n",
    "plt.show()"
   ]
  },
  {
   "cell_type": "markdown",
   "metadata": {},
   "source": [
    "#### Insight 2:\n",
    "- Comparação da média do peso dos bebês com a idade das mães;\n",
    "- Não há diferença significativa na média dos pesos dos bebês em relação à idade da mãe;"
   ]
  },
  {
   "cell_type": "code",
   "execution_count": 280,
   "metadata": {},
   "outputs": [],
   "source": [
    "# separando dataframe com as colunas alvo\n",
    "\n",
    "df_sinasci_2 = df_sinasci[['IDADEMAE', 'SEXO','PESO']]"
   ]
  },
  {
   "cell_type": "code",
   "execution_count": 281,
   "metadata": {},
   "outputs": [
    {
     "name": "stdout",
     "output_type": "stream",
     "text": [
      "\n",
      "\n",
      "IDADEMAE\n",
      "14    2920.00\n",
      "16    3206.67\n",
      "17    3030.00\n",
      "19    3190.00\n",
      "20    3405.00\n",
      "21    2716.60\n",
      "22    3835.00\n",
      "23    2870.00\n",
      "24    3080.00\n",
      "25    3760.00\n",
      "26    3587.50\n",
      "27    3720.00\n",
      "28    3670.71\n",
      "29    3803.75\n",
      "30    3330.00\n",
      "31    2670.00\n",
      "33    2805.00\n",
      "34    3437.50\n",
      "35    2482.50\n",
      "37    2550.00\n",
      "42    3560.00\n",
      "Name: PESO, dtype: float64\n",
      "\n",
      "\n"
     ]
    }
   ],
   "source": [
    "# peso médio dos bebês por idade da mãe\n",
    "\n",
    "peso_medio = data.groupby(['IDADEMAE'])['PESO'].mean()\n",
    "peso_medio = peso_medio.round(2)\n",
    "\n",
    "print(\"\\n\")\n",
    "print(peso_medio)\n",
    "print(\"\\n\")"
   ]
  },
  {
   "cell_type": "code",
   "execution_count": 282,
   "metadata": {},
   "outputs": [
    {
     "data": {
      "image/png": "[encoded data removed]",
      "text/plain": [
       "<Figure size 640x480 with 1 Axes>"
      ]
     },
     "metadata": {},
     "output_type": "display_data"
    }
   ],
   "source": [
    "# gráfico\n",
    "\n",
    "# criando um índice\n",
    "peso_medio.index\n",
    "\n",
    "\n",
    "plt.plot(peso_medio.index, peso_medio.values, marker='o', linestyle='-')\n",
    "\n",
    "\n",
    "plt.xlabel('Idade da Mãe')\n",
    "plt.ylabel('Peso Médio dos Bebês')\n",
    "plt.title('Peso Médio dos Bebês por Idade da Mãe')\n",
    "plt.grid(True)\n",
    "plt.show()\n"
   ]
  },
  {
   "cell_type": "markdown",
   "metadata": {},
   "source": [
    "#### Insight 3:\n",
    "- Comparação da média dos APGAR1 e APGAR5 em relação como o diagnóstico de ANOMALIA;\n",
    "- Na média não há relação dos baixos índices de APGAR1 e APGAR5 com o diagnóstico de ANOMALIA;"
   ]
  },
  {
   "cell_type": "code",
   "execution_count": 283,
   "metadata": {},
   "outputs": [],
   "source": [
    "# separando dataframe com as colunas alvo\n",
    "\n",
    "df_sinasci_2 = df_sinasci[['IDANOMAL','APGAR1', 'APGAR5']]"
   ]
  },
  {
   "cell_type": "code",
   "execution_count": 284,
   "metadata": {},
   "outputs": [
    {
     "name": "stdout",
     "output_type": "stream",
     "text": [
      "\n",
      "\n",
      " Média de APGAR1 e APGAR5 em relaçao ao diagnóstico de ANOMALIA:\n",
      "\n",
      "\n",
      "            APGAR1    APGAR5\n",
      "IDANOMAL                    \n",
      "1.0       7.208531  8.369668\n",
      "\n",
      "\n"
     ]
    }
   ],
   "source": [
    "# qual a média dos APGAR1 e APGAR5 em relação ao diagnóstico de ANOMALIA\n",
    "\n",
    "anomalia = df_sinasci_2[df_sinasci_2['IDANOMAL']==1]\n",
    "apgar_media = anomalia.groupby('IDANOMAL')[['APGAR1', 'APGAR5']].mean()\n",
    "\n",
    "print(\"\\n\")\n",
    "print(f\" Média de APGAR1 e APGAR5 em relaçao ao diagnóstico de ANOMALIA:\")\n",
    "print(\"\\n\")\n",
    "print(apgar_media)\n",
    "print(\"\\n\")\n"
   ]
  },
  {
   "cell_type": "code",
   "execution_count": 285,
   "metadata": {},
   "outputs": [
    {
     "data": {
      "image/png": "[encoded data removed]",
      "text/plain": [
       "<Figure size 640x480 with 1 Axes>"
      ]
     },
     "metadata": {},
     "output_type": "display_data"
    }
   ],
   "source": [
    "# gráfico\n",
    "apgar_media.plot(kind='bar', title='Média de APGAR1 e APGAR5 em relaçao ao diagnóstico de ANOMALIA')\n",
    "plt.xlabel('Anomalia')\n",
    "plt.ylabel('Média dos APGAR1 e APGAR5')\n",
    "plt.show()"
   ]
  },
  {
   "cell_type": "code",
   "execution_count": null,
   "metadata": {},
   "outputs": [],
   "source": []
  },
  {
   "cell_type": "code",
   "execution_count": null,
   "metadata": {},
   "outputs": [],
   "source": []
  }
 ],
 "metadata": {
  "kernelspec": {
   "display_name": "Python 3 (ipykernel)",
   "language": "python",
   "name": "python3"
  },
  "language_info": {
   "codemirror_mode": {
    "name": "ipython",
    "version": 3
   },
   "file_extension": ".py",
   "mimetype": "text/x-python",
   "name": "python",
   "nbconvert_exporter": "python",
   "pygments_lexer": "ipython3",
   "version": "3.11.5"
  },
  "varInspector": {
   "cols": {
    "lenName": 16,
    "lenType": 16,
    "lenVar": 40
   },
   "kernels_config": {
    "python": {
     "delete_cmd_postfix": "",
     "delete_cmd_prefix": "del ",
     "library": "var_list.py",
     "varRefreshCmd": "print(var_dic_list())"
    },
    "r": {
     "delete_cmd_postfix": ") ",
     "delete_cmd_prefix": "rm(",
     "library": "var_list.r",
     "varRefreshCmd": "cat(var_dic_list()) "
    }
   },
   "types_to_exclude": [
    "module",
    "function",
    "builtin_function_or_method",
    "instance",
    "_Feature"
   ],
   "window_display": false
  }
 },
 "nbformat": 4,
 "nbformat_minor": 4
}
